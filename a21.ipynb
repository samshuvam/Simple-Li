{
  "nbformat": 4,
  "nbformat_minor": 0,
  "metadata": {
    "colab": {
      "provenance": []
    },
    "kernelspec": {
      "name": "python3",
      "display_name": "Python 3"
    },
    "language_info": {
      "name": "python"
    }
  },
  "cells": [
    {
      "cell_type": "code",
      "source": [
        "# Linear Regression with Sum of Residual Error and R² Value\n",
        "\n",
        "# Importing the libraries\n",
        "import numpy as np\n",
        "import matplotlib.pyplot as plt"
      ],
      "metadata": {
        "id": "JoLP5FMZx9_I"
      },
      "execution_count": 3,
      "outputs": []
    },
    {
      "cell_type": "code",
      "source": [
        "# Dataset\n",
        "x = np.array([0, 1, 2, 3, 4, 5, 6, 7, 8, 9])\n",
        "y = np.array([1, 3, 2, 5, 7, 8, 8, 9, 10, 12])"
      ],
      "metadata": {
        "id": "Dj7FWA0cx_gR"
      },
      "execution_count": 4,
      "outputs": []
    },
    {
      "cell_type": "code",
      "source": [
        "\n",
        "# Number of observations\n",
        "n = len(x)"
      ],
      "metadata": {
        "id": "ur3G7hTQyCgY"
      },
      "execution_count": 5,
      "outputs": []
    },
    {
      "cell_type": "code",
      "source": [
        "# Analytic solution to compute coefficients\n",
        "mean_x = np.mean(x)\n",
        "mean_y = np.mean(y)\n",
        "b1 = np.sum((x - mean_x) * (y - mean_y)) / np.sum((x - mean_x)**2)\n",
        "b0 = mean_y - b1 * mean_x\n",
        "\n",
        "# Analytic Solution for Coefficients\n",
        "# X_mean = np.mean(x)\n",
        "# Y_mean = np.mean(y)\n",
        "# b1_analytic = np.sum((x - X_mean) * (y - Y_mean)) / np.sum((x - X_mean)**2)\n",
        "# b0_analytic = Y_mean - b1_analytic * X_mean"
      ],
      "metadata": {
        "id": "ZbyaC2tTyD4h"
      },
      "execution_count": 19,
      "outputs": []
    },
    {
      "cell_type": "code",
      "source": [
        "# Predicting y using analytic coefficients\n",
        "y_pred_analytic = b0 + b1 * x\n",
        "\n",
        "# # Predicting y using Analytic Coefficients\n",
        "# y_pred_analytic = b0_analytic + b1_analytic * x"
      ],
      "metadata": {
        "id": "tEQSu-XgyFPa"
      },
      "execution_count": 20,
      "outputs": []
    },
    {
      "cell_type": "code",
      "source": [
        "# Sum of Squared Errors (SSE) for Analytic Solution\n",
        "sse_analytic = np.sum((y - y_pred_analytic)**2)"
      ],
      "metadata": {
        "id": "EX7Pj16LyGn0"
      },
      "execution_count": 8,
      "outputs": []
    },
    {
      "cell_type": "code",
      "source": [
        "# Total Sum of Squares (SST) for R² Calculation\n",
        "sst = np.sum((y - mean_y)**2)"
      ],
      "metadata": {
        "id": "UnnKGzGnyH0A"
      },
      "execution_count": 9,
      "outputs": []
    },
    {
      "cell_type": "code",
      "source": [
        "# R² Value for Analytic Solution\n",
        "r2_analytic = 1 - (sse_analytic / sst)"
      ],
      "metadata": {
        "id": "MdANe83qyJEm"
      },
      "execution_count": 10,
      "outputs": []
    },
    {
      "cell_type": "code",
      "source": [
        "# Gradient Descent\n",
        "learning_rate = 0.01\n",
        "b0_gd = 0  # Initial guess for intercept\n",
        "b1_gd = 0  # Initial guess for slope\n",
        "iterations = 1000"
      ],
      "metadata": {
        "id": "EKFmbZE_yKd_"
      },
      "execution_count": 11,
      "outputs": []
    },
    {
      "cell_type": "code",
      "source": [
        "# Gradient Descent Algorithm\n",
        "for i in range(iterations):\n",
        "    y_pred_gd = b0_gd + b1_gd * x\n",
        "    b0_gd -= learning_rate * (-2/n) * np.sum(y - y_pred_gd)\n",
        "    b1_gd -= learning_rate * (-2/n) * np.sum((y - y_pred_gd) * x)"
      ],
      "metadata": {
        "id": "9xmyCtuQyLzJ"
      },
      "execution_count": 12,
      "outputs": []
    },
    {
      "cell_type": "code",
      "source": [
        "# Predicting y using Gradient Descent coefficients\n",
        "y_pred_gd_final = b0_gd + b1_gd * x"
      ],
      "metadata": {
        "id": "pAcNYc_SyNrW"
      },
      "execution_count": 13,
      "outputs": []
    },
    {
      "cell_type": "code",
      "source": [
        "# Sum of Squared Errors (SSE) for Gradient Descent Solution\n",
        "sse_gd = np.sum((y - y_pred_gd_final)**2)"
      ],
      "metadata": {
        "id": "2NNvN_YcyQko"
      },
      "execution_count": 14,
      "outputs": []
    },
    {
      "cell_type": "code",
      "source": [
        "# R² Value for Gradient Descent Solution\n",
        "r2_gd = 1 - (sse_gd / sst)"
      ],
      "metadata": {
        "id": "FBAb1B00yR2c"
      },
      "execution_count": 15,
      "outputs": []
    },
    {
      "cell_type": "code",
      "source": [
        "# # Print Results\n",
        "# print(f\"Analytic Coefficients: b0 = {b0_analytic}, b1 = {b1_analytic}\")\n",
        "# print(f\"SSE (Analytic): {SSE_analytic}, R² (Analytic): {R2_analytic}\")\n",
        "\n",
        "# print(f\"Gradient Descent Coefficients: b0 = {b0_gd}, b1 = {b1_gd}\")\n",
        "# print(f\"SSE (Gradient Descent): {SSE_gd}, R² (Gradient Descent): {R2_gd}\")\n",
        "\n",
        "\n",
        "# Printing results\n",
        "print(\"Analytic Solution Coefficients: b0 =\", b0, \", b1 =\", b1)\n",
        "print(\"Sum of Squared Errors (Analytic):\", sse_analytic)\n",
        "print(\"R² Value (Analytic):\", r2_analytic)\n",
        "\n",
        "print(\"Gradient Descent Coefficients: b0 =\", b0_gd, \", b1 =\", b1_gd)\n",
        "print(\"Sum of Squared Errors (Gradient Descent):\", sse_gd)\n",
        "print(\"R² Value (Gradient Descent):\", r2_gd)"
      ],
      "metadata": {
        "colab": {
          "base_uri": "https://localhost:8080/"
        },
        "id": "pOi15QMWyTUs",
        "outputId": "c98d2e3f-7969-47c1-c617-5fc7e0e48a3f"
      },
      "execution_count": 21,
      "outputs": [
        {
          "output_type": "stream",
          "name": "stdout",
          "text": [
            "Analytic Solution Coefficients: b0 = 1.2363636363636363 , b1 = 1.1696969696969697\n",
            "Sum of Squared Errors (Analytic): 5.624242424242423\n",
            "R² Value (Analytic): 0.952538038613988\n",
            "Gradient Descent Coefficients: b0 = 1.2328099487610318 , b1 = 1.170263693076768\n",
            "Sum of Squared Errors (Gradient Descent): 5.624278989977716\n",
            "R² Value (Gradient Descent): 0.9525377300423822\n"
          ]
        }
      ]
    },
    {
      "cell_type": "code",
      "execution_count": 22,
      "metadata": {
        "colab": {
          "base_uri": "https://localhost:8080/",
          "height": 472
        },
        "id": "jPviomSJuWvv",
        "outputId": "2846b499-8b08-4d47-ddb3-28a1c5892561"
      },
      "outputs": [
        {
          "output_type": "display_data",
          "data": {
            "text/plain": [
              "<Figure size 640x480 with 1 Axes>"
            ],
            "image/png": "[encoded data removed]"
          },
          "metadata": {}
        }
      ],
      "source": [
        "#  Plotting the results\n",
        "plt.scatter(x, y, color = 'red')\n",
        "plt.plot(x, y_pred_analytic, color = 'blue', label='Analytic Solution')\n",
        "plt.plot(x, y_pred_gd_final, color = 'green', linestyle='--', label='Gradient Descent Solution')\n",
        "plt.title('Linear Regression')\n",
        "plt.xlabel('X')\n",
        "plt.ylabel('Y')\n",
        "plt.legend()\n",
        "plt.show()\n"
      ]
    }
  ]
}